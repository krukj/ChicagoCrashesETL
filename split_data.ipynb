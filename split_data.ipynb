{
 "cells": [
  {
   "cell_type": "code",
   "execution_count": 1,
   "id": "3f61baa1",
   "metadata": {},
   "outputs": [],
   "source": [
    "import pandas as pd\n"
   ]
  },
  {
   "cell_type": "code",
   "execution_count": 2,
   "id": "82263a50",
   "metadata": {},
   "outputs": [],
   "source": [
    "crash_path = './Traffic_Crashes_Crashes.csv'\n",
    "vehicle_path = './Traffic_Crashes_Vehicles.csv'\n",
    "people_path = './Traffic_Crashes_People.csv'"
   ]
  },
  {
   "cell_type": "code",
   "execution_count": 3,
   "id": "0db8c58f",
   "metadata": {},
   "outputs": [],
   "source": [
    "people = pd.read_csv(people_path, low_memory=False)\n",
    "vehicles = pd.read_csv(vehicle_path, low_memory=False)\n",
    "crashes = pd.read_csv(crash_path, low_memory=False)"
   ]
  },
  {
   "cell_type": "code",
   "execution_count": 9,
   "id": "f797e110",
   "metadata": {},
   "outputs": [],
   "source": [
    "date_range = pd.date_range(start='2019-01-01', end='2020-01-01')\n",
    "\n",
    "crashes = crashes[crashes['CRASH_DATE'].isin(date_range)]\n",
    "people = people[people['CRASH_DATE'].isin(date_range)]\n",
    "vehicles = vehicles[vehicles['CRASH_DATE'].isin(date_range)]"
   ]
  },
  {
   "cell_type": "code",
   "execution_count": 10,
   "id": "3fcf1736",
   "metadata": {},
   "outputs": [],
   "source": [
    "crashes.to_csv('./data/crashes_data/Traffic_Crashes_Crashes.csv')\n",
    "people.to_csv('./data/crashes_data/Traffic_Crashes_People.csv')\n",
    "vehicles.to_csv('./data/crashes_data/Traffic_Crashes_Vehicles.csv')"
   ]
  },
  {
   "cell_type": "code",
   "execution_count": null,
   "id": "f773645b",
   "metadata": {},
   "outputs": [],
   "source": []
  }
 ],
 "metadata": {
  "kernelspec": {
   "display_name": "Python 3",
   "language": "python",
   "name": "python3"
  },
  "language_info": {
   "codemirror_mode": {
    "name": "ipython",
    "version": 3
   },
   "file_extension": ".py",
   "mimetype": "text/x-python",
   "name": "python",
   "nbconvert_exporter": "python",
   "pygments_lexer": "ipython3",
   "version": "3.11.9"
  }
 },
 "nbformat": 4,
 "nbformat_minor": 5
}
