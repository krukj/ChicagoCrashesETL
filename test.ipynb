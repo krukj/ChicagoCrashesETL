{
 "cells": [
  {
   "cell_type": "code",
   "execution_count": 10,
   "id": "cf6bcf2a",
   "metadata": {},
   "outputs": [],
   "source": [
    "import pandas as pd\n",
    "import numpy as np\n",
    "import os\n",
    "import requests"
   ]
  },
  {
   "cell_type": "markdown",
   "id": "f023e344",
   "metadata": {},
   "source": [
    "## Sprawdzanie po trans_formed"
   ]
  },
  {
   "cell_type": "code",
   "execution_count": 167,
   "id": "5e117d38",
   "metadata": {},
   "outputs": [
    {
     "data": {
      "text/plain": [
       "'c:\\\\Users\\\\Tomek\\\\Desktop\\\\PW MINI IAD\\\\Semestr 6\\\\Hurtownie\\\\ChicagoCrashesETL'"
      ]
     },
     "execution_count": 167,
     "metadata": {},
     "output_type": "execute_result"
    }
   ],
   "source": [
    "import os\n",
    "os.getcwd()"
   ]
  },
  {
   "cell_type": "code",
   "execution_count": 15,
   "id": "93ec9488",
   "metadata": {},
   "outputs": [],
   "source": [
    "df_vehicles = pd.read_pickle('./airflow-postgres-docker/data/tmp/extracted/vehicles.pkl')\n",
    "df_crashes = pd.read_pickle('./airflow-postgres-docker/data/tmp/extracted/crashes.pkl')"
   ]
  },
  {
   "cell_type": "code",
   "execution_count": 11,
   "id": "e4636fcd",
   "metadata": {},
   "outputs": [],
   "source": [
    "fact_crash = pd.read_pickle('./airflow-postgres-docker/data/tmp/transformed/fact_crash.pkl')\n",
    "dim_vehicles = pd.read_pickle('./airflow-postgres-docker/data/tmp/transformed/dim_vehicle.pkl')\n",
    "dim_crash_info = pd.read_pickle('./airflow-postgres-docker/data/tmp/transformed/dim_crash_info.pkl')\n",
    "fact_weather = pd.read_pickle('./airflow-postgres-docker/data/tmp/transformed/fact_weather.pkl')\n",
    "dim_people = pd.read_pickle('./airflow-postgres-docker/data/tmp/transformed/dim_people.pkl')\n",
    "dim_date = pd.read_pickle('./airflow-postgres-docker/data/tmp/transformed/dim_date.pkl')\n",
    "dim_location = pd.read_pickle('./airflow-postgres-docker/data/tmp/transformed/dim_location.pkl')"
   ]
  },
  {
   "cell_type": "code",
   "execution_count": 17,
   "id": "d940d9e7",
   "metadata": {},
   "outputs": [
    {
     "data": {
      "text/plain": [
       "0"
      ]
     },
     "execution_count": 17,
     "metadata": {},
     "output_type": "execute_result"
    }
   ],
   "source": [
    "# sum(dim_vehicles[''].isna())\n",
    "sum(df_crashes['CRASH_RECORD_ID'].duplicated())"
   ]
  },
  {
   "cell_type": "code",
   "execution_count": 14,
   "id": "b5759dd8",
   "metadata": {},
   "outputs": [
    {
     "data": {
      "text/plain": [
       "146504"
      ]
     },
     "execution_count": 14,
     "metadata": {},
     "output_type": "execute_result"
    }
   ],
   "source": [
    "sum(fact_crash['FACT_CRASH_KEY'].duplicated())"
   ]
  },
  {
   "cell_type": "code",
   "execution_count": 19,
   "id": "ff03df8c",
   "metadata": {},
   "outputs": [
    {
     "name": "stdout",
     "output_type": "stream",
     "text": [
      "<class 'pandas.core.frame.DataFrame'>\n",
      "RangeIndex: 264002 entries, 0 to 264001\n",
      "Data columns (total 15 columns):\n",
      " #   Column                         Non-Null Count   Dtype  \n",
      "---  ------                         --------------   -----  \n",
      " 0   FACT_CRASH_KEY                 264002 non-null  uint64 \n",
      " 1   CRASH_RECORD_ID                264002 non-null  object \n",
      " 2   NUM_UNITS                      264002 non-null  Int64  \n",
      " 3   INJURIES_TOTAL                 264002 non-null  Int64  \n",
      " 4   INJURIES_FATAL                 264002 non-null  Int64  \n",
      " 5   INJURIES_INCAPACITATING        264002 non-null  Int64  \n",
      " 6   INJURIES_NON_INCAPACITATING    264002 non-null  Int64  \n",
      " 7   INJURIES_REPORTED_NOT_EVIDENT  264002 non-null  Int64  \n",
      " 8   INJURIES_NO_INDICATION         264002 non-null  Int64  \n",
      " 9   INJURIES_UNKNOWN               264002 non-null  Int64  \n",
      " 10  date_id                        264002 non-null  int64  \n",
      " 11  CRASH_INFO_KEY                 264002 non-null  uint64 \n",
      " 12  LOCATION_KEY                   264002 non-null  uint64 \n",
      " 13  PERSON_ID                      264002 non-null  string \n",
      " 14  VEHICLE_ID                     264002 non-null  float64\n",
      "dtypes: Int64(8), float64(1), int64(1), object(1), string(1), uint64(3)\n",
      "memory usage: 32.2+ MB\n"
     ]
    }
   ],
   "source": [
    "# sum(dim_vehicles[[\"CRASH_RECORD_ID\", \"VEHICLE_ID\"]].duplicated())\n",
    "fact_crash.info()"
   ]
  },
  {
   "cell_type": "code",
   "execution_count": 22,
   "id": "2f3dafa1",
   "metadata": {},
   "outputs": [
    {
     "data": {
      "application/vnd.microsoft.datawrangler.viewer.v0+json": {
       "columns": [
        {
         "name": "index",
         "rawType": "int64",
         "type": "integer"
        },
        {
         "name": "FACT_CRASH_KEY",
         "rawType": "uint64",
         "type": "integer"
        },
        {
         "name": "CRASH_RECORD_ID",
         "rawType": "object",
         "type": "string"
        },
        {
         "name": "NUM_UNITS",
         "rawType": "Int64",
         "type": "integer"
        },
        {
         "name": "INJURIES_TOTAL",
         "rawType": "Int64",
         "type": "integer"
        },
        {
         "name": "INJURIES_FATAL",
         "rawType": "Int64",
         "type": "integer"
        },
        {
         "name": "INJURIES_INCAPACITATING",
         "rawType": "Int64",
         "type": "integer"
        },
        {
         "name": "INJURIES_NON_INCAPACITATING",
         "rawType": "Int64",
         "type": "integer"
        },
        {
         "name": "INJURIES_REPORTED_NOT_EVIDENT",
         "rawType": "Int64",
         "type": "integer"
        },
        {
         "name": "INJURIES_NO_INDICATION",
         "rawType": "Int64",
         "type": "integer"
        },
        {
         "name": "INJURIES_UNKNOWN",
         "rawType": "Int64",
         "type": "integer"
        },
        {
         "name": "date_id",
         "rawType": "int64",
         "type": "integer"
        },
        {
         "name": "CRASH_INFO_KEY",
         "rawType": "uint64",
         "type": "integer"
        },
        {
         "name": "LOCATION_KEY",
         "rawType": "uint64",
         "type": "integer"
        },
        {
         "name": "PERSON_ID",
         "rawType": "string",
         "type": "string"
        },
        {
         "name": "VEHICLE_ID",
         "rawType": "float64",
         "type": "float"
        }
       ],
       "ref": "92bbd3c8-1ce5-4ae9-a5b4-fac7f95a4ce1",
       "rows": [
        [
         "0",
         "3729645821298575012",
         "004cd14d0303a9163aad69a2d7f341b7da2a8572b2ab3378594bfae8ac53dcb604dd8d414f93c290b55862f9f2517ad32e6209cbc8034c2e26eb3c2bc9724390",
         "2",
         "1",
         "1",
         "0",
         "0",
         "0",
         "1",
         "0",
         "2019112609",
         "7017221841570418401",
         "13985346965653409630",
         "O790106",
         "750401.0"
        ]
       ],
       "shape": {
        "columns": 15,
        "rows": 1
       }
      },
      "text/html": [
       "<div>\n",
       "<style scoped>\n",
       "    .dataframe tbody tr th:only-of-type {\n",
       "        vertical-align: middle;\n",
       "    }\n",
       "\n",
       "    .dataframe tbody tr th {\n",
       "        vertical-align: top;\n",
       "    }\n",
       "\n",
       "    .dataframe thead th {\n",
       "        text-align: right;\n",
       "    }\n",
       "</style>\n",
       "<table border=\"1\" class=\"dataframe\">\n",
       "  <thead>\n",
       "    <tr style=\"text-align: right;\">\n",
       "      <th></th>\n",
       "      <th>FACT_CRASH_KEY</th>\n",
       "      <th>CRASH_RECORD_ID</th>\n",
       "      <th>NUM_UNITS</th>\n",
       "      <th>INJURIES_TOTAL</th>\n",
       "      <th>INJURIES_FATAL</th>\n",
       "      <th>INJURIES_INCAPACITATING</th>\n",
       "      <th>INJURIES_NON_INCAPACITATING</th>\n",
       "      <th>INJURIES_REPORTED_NOT_EVIDENT</th>\n",
       "      <th>INJURIES_NO_INDICATION</th>\n",
       "      <th>INJURIES_UNKNOWN</th>\n",
       "      <th>date_id</th>\n",
       "      <th>CRASH_INFO_KEY</th>\n",
       "      <th>LOCATION_KEY</th>\n",
       "      <th>PERSON_ID</th>\n",
       "      <th>VEHICLE_ID</th>\n",
       "    </tr>\n",
       "  </thead>\n",
       "  <tbody>\n",
       "    <tr>\n",
       "      <th>0</th>\n",
       "      <td>3729645821298575012</td>\n",
       "      <td>004cd14d0303a9163aad69a2d7f341b7da2a8572b2ab33...</td>\n",
       "      <td>2</td>\n",
       "      <td>1</td>\n",
       "      <td>1</td>\n",
       "      <td>0</td>\n",
       "      <td>0</td>\n",
       "      <td>0</td>\n",
       "      <td>1</td>\n",
       "      <td>0</td>\n",
       "      <td>2019112609</td>\n",
       "      <td>7017221841570418401</td>\n",
       "      <td>13985346965653409630</td>\n",
       "      <td>O790106</td>\n",
       "      <td>750401.0</td>\n",
       "    </tr>\n",
       "  </tbody>\n",
       "</table>\n",
       "</div>"
      ],
      "text/plain": [
       "        FACT_CRASH_KEY                                    CRASH_RECORD_ID  \\\n",
       "0  3729645821298575012  004cd14d0303a9163aad69a2d7f341b7da2a8572b2ab33...   \n",
       "\n",
       "   NUM_UNITS  INJURIES_TOTAL  INJURIES_FATAL  INJURIES_INCAPACITATING  \\\n",
       "0          2               1               1                        0   \n",
       "\n",
       "   INJURIES_NON_INCAPACITATING  INJURIES_REPORTED_NOT_EVIDENT  \\\n",
       "0                            0                              0   \n",
       "\n",
       "   INJURIES_NO_INDICATION  INJURIES_UNKNOWN     date_id       CRASH_INFO_KEY  \\\n",
       "0                       1                 0  2019112609  7017221841570418401   \n",
       "\n",
       "           LOCATION_KEY PERSON_ID  VEHICLE_ID  \n",
       "0  13985346965653409630   O790106    750401.0  "
      ]
     },
     "execution_count": 22,
     "metadata": {},
     "output_type": "execute_result"
    }
   ],
   "source": [
    "fact_crash[fact_crash['VEHICLE_ID'] == 750401]"
   ]
  },
  {
   "cell_type": "code",
   "execution_count": 23,
   "id": "5ea498e4",
   "metadata": {},
   "outputs": [
    {
     "data": {
      "application/vnd.microsoft.datawrangler.viewer.v0+json": {
       "columns": [
        {
         "name": "index",
         "rawType": "int64",
         "type": "integer"
        },
        {
         "name": "CRASH_UNIT_ID",
         "rawType": "Int64",
         "type": "integer"
        },
        {
         "name": "CRASH_RECORD_ID",
         "rawType": "object",
         "type": "string"
        },
        {
         "name": "UNIT_TYPE",
         "rawType": "string",
         "type": "string"
        },
        {
         "name": "NUM_PASSENGERS",
         "rawType": "Int64",
         "type": "integer"
        },
        {
         "name": "VEHICLE_ID",
         "rawType": "float64",
         "type": "float"
        },
        {
         "name": "MAKE",
         "rawType": "string",
         "type": "string"
        },
        {
         "name": "MODEL",
         "rawType": "string",
         "type": "string"
        },
        {
         "name": "VEHICLE_YEAR",
         "rawType": "Int64",
         "type": "integer"
        },
        {
         "name": "VEHICLE_DEFECT",
         "rawType": "string",
         "type": "string"
        },
        {
         "name": "VEHICLE_TYPE",
         "rawType": "string",
         "type": "string"
        },
        {
         "name": "VEHICLE_USE",
         "rawType": "string",
         "type": "string"
        },
        {
         "name": "TRAVEL_DIRECTION",
         "rawType": "string",
         "type": "string"
        },
        {
         "name": "MANEUVER",
         "rawType": "string",
         "type": "string"
        },
        {
         "name": "OCCUPANT_CNT",
         "rawType": "Int64",
         "type": "integer"
        },
        {
         "name": "FIRST_CONTACT_POINT",
         "rawType": "string",
         "type": "string"
        },
        {
         "name": "VEHICLE_KEY",
         "rawType": "uint64",
         "type": "integer"
        }
       ],
       "ref": "c8c7d9ff-84e4-4cf1-812a-1b8555ad9d17",
       "rows": [
        [
         "217314",
         "790106",
         "004cd14d0303a9163aad69a2d7f341b7da2a8572b2ab3378594bfae8ac53dcb604dd8d414f93c290b55862f9f2517ad32e6209cbc8034c2e26eb3c2bc9724390",
         "DRIVER",
         "-1",
         "750401.0",
         "FORD",
         "UNKNOWN",
         "-1",
         "NONE",
         "TRUCK - SINGLE UNIT",
         "CONSTRUCTION/MAINTENANCE",
         "W",
         "STRAIGHT AHEAD",
         "2",
         "OTHER",
         "12005604321252382575"
        ]
       ],
       "shape": {
        "columns": 16,
        "rows": 1
       }
      },
      "text/html": [
       "<div>\n",
       "<style scoped>\n",
       "    .dataframe tbody tr th:only-of-type {\n",
       "        vertical-align: middle;\n",
       "    }\n",
       "\n",
       "    .dataframe tbody tr th {\n",
       "        vertical-align: top;\n",
       "    }\n",
       "\n",
       "    .dataframe thead th {\n",
       "        text-align: right;\n",
       "    }\n",
       "</style>\n",
       "<table border=\"1\" class=\"dataframe\">\n",
       "  <thead>\n",
       "    <tr style=\"text-align: right;\">\n",
       "      <th></th>\n",
       "      <th>CRASH_UNIT_ID</th>\n",
       "      <th>CRASH_RECORD_ID</th>\n",
       "      <th>UNIT_TYPE</th>\n",
       "      <th>NUM_PASSENGERS</th>\n",
       "      <th>VEHICLE_ID</th>\n",
       "      <th>MAKE</th>\n",
       "      <th>MODEL</th>\n",
       "      <th>VEHICLE_YEAR</th>\n",
       "      <th>VEHICLE_DEFECT</th>\n",
       "      <th>VEHICLE_TYPE</th>\n",
       "      <th>VEHICLE_USE</th>\n",
       "      <th>TRAVEL_DIRECTION</th>\n",
       "      <th>MANEUVER</th>\n",
       "      <th>OCCUPANT_CNT</th>\n",
       "      <th>FIRST_CONTACT_POINT</th>\n",
       "      <th>VEHICLE_KEY</th>\n",
       "    </tr>\n",
       "  </thead>\n",
       "  <tbody>\n",
       "    <tr>\n",
       "      <th>217314</th>\n",
       "      <td>790106</td>\n",
       "      <td>004cd14d0303a9163aad69a2d7f341b7da2a8572b2ab33...</td>\n",
       "      <td>DRIVER</td>\n",
       "      <td>-1</td>\n",
       "      <td>750401.0</td>\n",
       "      <td>FORD</td>\n",
       "      <td>UNKNOWN</td>\n",
       "      <td>-1</td>\n",
       "      <td>NONE</td>\n",
       "      <td>TRUCK - SINGLE UNIT</td>\n",
       "      <td>CONSTRUCTION/MAINTENANCE</td>\n",
       "      <td>W</td>\n",
       "      <td>STRAIGHT AHEAD</td>\n",
       "      <td>2</td>\n",
       "      <td>OTHER</td>\n",
       "      <td>12005604321252382575</td>\n",
       "    </tr>\n",
       "  </tbody>\n",
       "</table>\n",
       "</div>"
      ],
      "text/plain": [
       "        CRASH_UNIT_ID                                    CRASH_RECORD_ID  \\\n",
       "217314         790106  004cd14d0303a9163aad69a2d7f341b7da2a8572b2ab33...   \n",
       "\n",
       "       UNIT_TYPE  NUM_PASSENGERS  VEHICLE_ID  MAKE    MODEL  VEHICLE_YEAR  \\\n",
       "217314    DRIVER              -1    750401.0  FORD  UNKNOWN            -1   \n",
       "\n",
       "       VEHICLE_DEFECT         VEHICLE_TYPE               VEHICLE_USE  \\\n",
       "217314           NONE  TRUCK - SINGLE UNIT  CONSTRUCTION/MAINTENANCE   \n",
       "\n",
       "       TRAVEL_DIRECTION        MANEUVER  OCCUPANT_CNT FIRST_CONTACT_POINT  \\\n",
       "217314                W  STRAIGHT AHEAD             2               OTHER   \n",
       "\n",
       "                 VEHICLE_KEY  \n",
       "217314  12005604321252382575  "
      ]
     },
     "execution_count": 23,
     "metadata": {},
     "output_type": "execute_result"
    }
   ],
   "source": [
    "dim_vehicles[dim_vehicles['VEHICLE_ID'] == 750401]"
   ]
  }
 ],
 "metadata": {
  "kernelspec": {
   "display_name": "Python 3",
   "language": "python",
   "name": "python3"
  },
  "language_info": {
   "codemirror_mode": {
    "name": "ipython",
    "version": 3
   },
   "file_extension": ".py",
   "mimetype": "text/x-python",
   "name": "python",
   "nbconvert_exporter": "python",
   "pygments_lexer": "ipython3",
   "version": "3.11.9"
  }
 },
 "nbformat": 4,
 "nbformat_minor": 5
}
