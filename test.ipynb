{
 "cells": [
  {
   "cell_type": "code",
   "execution_count": 73,
   "id": "cf6bcf2a",
   "metadata": {},
   "outputs": [],
   "source": [
    "import pandas as pd\n",
    "import numpy as np\n",
    "import os\n",
    "import requests\n"
   ]
  },
  {
   "cell_type": "code",
   "execution_count": 74,
   "id": "8c1f0083",
   "metadata": {},
   "outputs": [],
   "source": [
    "######################## CRASHES ###########################\n",
    "\n",
    "COLUMNS_TO_DROP_CRASHES = [\n",
    "    \"CRASH_DATE_EST_I\",\n",
    "    \"LANE_CNT\",\n",
    "    \"INTERSECTION_RELATED_I\",\n",
    "    \"NOT_RIGHT_OF_WAY_I\",\n",
    "    \"HIT_AND_RUN_I\",\n",
    "    \"PHOTOS_TAKEN_I\",\n",
    "    \"STATEMENTS_TAKEN_I\",\n",
    "    \"DOORING_I\",\n",
    "    \"WORK_ZONE_I\",\n",
    "    \"WORK_ZONE_TYPE\",\n",
    "    \"WORKERS_PRESENT_I\",\n",
    "    \"CRASH_HOUR\",\n",
    "    \"CRASH_DAY_OF_WEEK\",\n",
    "    \"CRASH_MONTH\",\n",
    "    \"LOCATION\",\n",
    "]\n",
    "\n",
    "# tu nulle UNKNOWN\n",
    "COLUMNS_TO_STRING_CRASHES = [\n",
    "    \"TRAFFIC_CONTROL_DEVICE\",\n",
    "    \"DEVICE_CONDITION\",\n",
    "    \"WEATHER_CONDITION\",\n",
    "    \"LIGHTING_CONDITION\",\n",
    "    \"FIRST_CRASH_TYPE\",\n",
    "    \"TRAFFICWAY_TYPE\",\n",
    "    \"ALIGNMENT\",\n",
    "    \"ROADWAY_SURFACE_COND\",\n",
    "    \"ROAD_DEFECT\",\n",
    "    \"REPORT_TYPE\",\n",
    "    \"CRASH_TYPE\",\n",
    "    \"DAMAGE\",\n",
    "    \"PRIM_CONTRIBUTORY_CAUSE\",\n",
    "    \"SEC_CONTRIBUTORY_CAUSE\",\n",
    "    \"STREET_DIRECTION\",\n",
    "    \"STREET_NAME\",\n",
    "    \"MOST_SEVERE_INJURY\",\n",
    "]\n",
    "\n",
    "COLUMNS_TO_INT_CRASHES = [\n",
    "    \"POSTED_SPEED_LIMIT\",\n",
    "    \"STREET_NO\",\n",
    "    \"BEAT_OF_OCCURRENCE\",\n",
    "    \"NUM_UNITS\",\n",
    "    \"INJURIES_TOTAL\",\n",
    "    \"INJURIES_FATAL\",\n",
    "    \"INJURIES_INCAPACITATING\",\n",
    "    \"INJURIES_NON_INCAPACITATING\",\n",
    "    \"INJURIES_REPORTED_NOT_EVIDENT\",\n",
    "    \"INJURIES_NO_INDICATION\",\n",
    "    \"INJURIES_UNKNOWN\",\n",
    "]\n",
    "\n",
    "COLUMNS_TO_FLOAT_CRASHES = [\"LATITUDE\", \"LONGITUDE\"]\n",
    "\n",
    "COLUMNS_TO_DATE = [\n",
    "    \"CRASH_DATE\",\n",
    "    \"DATE_POLICE_NOTIFIED\",\n",
    "]\n",
    "\n",
    "COLUMNS_TO_DIM_CRASH_INFO = [\n",
    "    \"CRASH_RECORD_ID\",\n",
    "    \"TRAFFIC_CONTROL_DEVICE\",\n",
    "    \"DEVICE_CONDITION\",\n",
    "    \"FIRST_CRASH_TYPE\",\n",
    "    \"TRAFFICWAY_TYPE\",\n",
    "    \"ALIGNMENT\",\n",
    "    \"ROADWAY_SURFACE_COND\",\n",
    "    \"ROAD_DEFECT\",\n",
    "    \"REPORT_TYPE\",\n",
    "    \"CRASH_TYPE\",\n",
    "    \"DAMAGE\",\n",
    "    \"PRIM_CONTRIBUTORY_CAUSE\",\n",
    "    \"SEC_CONTRIBUTORY_CAUSE\",\n",
    "    \"MOST_SEVERE_INJURY\",\n",
    "]\n",
    "\n",
    "COLUMNS_TO_FACT_CRASH = [\n",
    "    \"CRASH_RECORD_ID\",\n",
    "    \"NUM_UNITS\",\n",
    "    \"INJURIES_TOTAL\",\n",
    "    \"INJURIES_FATAL\",\n",
    "    \"INJURIES_INCAPACITATING\",\n",
    "    \"INJURIES_NON_INCAPACITATING\",\n",
    "    \"INJURIES_REPORTED_NOT_EVIDENT\",\n",
    "    \"INJURIES_NO_INDICATION\",\n",
    "    \"INJURIES_UNKNOWN\",\n",
    "]\n",
    "\n",
    "COLUMNS_TO_DIM_LOCATION = [\n",
    "    \"CRASH_RECORD_ID\",\n",
    "    \"STREET_DIRECTION\",\n",
    "    \"STREET_NAME\",\n",
    "    \"STREET_NO\",\n",
    "    \"LATITUDE\",\n",
    "    \"LONGITUDE\"\n",
    "]\n",
    "\n",
    "###################################### PEOPLE ########################################\n",
    "\n",
    "COLUMNS_TO_DROP_PEOPLE = [ \n",
    "    \"SEAT_NO\",           \n",
    "    \"CITY\",              \n",
    "    \"STATE\",               \n",
    "    \"ZIPCODE\",             \n",
    "    \"DRIVERS_LICENSE_STATE\",\n",
    "    \"DRIVERS_LICENSE_CLASS\",\n",
    "    \"HOSPITAL\",            \n",
    "    \"EMS_AGENCY\",\n",
    "    \"EMS_RUN_NO\",\n",
    "    \"PEDPEDAL_ACTION\",\n",
    "    \"PEDPEDAL_VISIBILITY\",\n",
    "    \"PEDPEDAL_LOCATION\",\n",
    "    \"CELL_PHONE_USE\",\n",
    "    ]\n",
    "\n",
    "COLUMNS_TO_STRING_PEOPLE = [\n",
    "    \"PERSON_ID\",\n",
    "    \"PERSON_TYPE\",\n",
    "    \"CRASH_RECORD_ID\",\n",
    "    \"SEX\",\n",
    "    \"SAFETY_EQUIPMENT\",\n",
    "    \"AIRBAG_DEPLOYED\",\n",
    "    \"EJECTION\",\n",
    "    \"INJURY_CLASSIFICATION\",\n",
    "    \"DRIVER_ACTION\",\n",
    "    \"DRIVER_VISION\",\n",
    "    \"PHYSICAL_CONDITION\",\n",
    "    \"BAC_RESULT\" \n",
    "]\n",
    "\n",
    "COLUMNS_TO_INT_PEOPLE = [\n",
    "    # \"VEHICLE_ID\",\n",
    "    \"AGE\",\n",
    "]\n",
    "\n",
    "COLUMNS_TO_FLOAT_PEOPLE = [\n",
    "    \"BAC_RESULT VALUE\"\n",
    "]\n",
    "\n",
    "############## VEHICLES #################\n",
    "\n",
    "COLUMNS_TO_DROP_VEHICLES = [\n",
    "    \"CRASH_DATE\",\n",
    "    \"UNIT_NO\",\n",
    "    #   \"VEHICLE_ID\",  ?\n",
    "    \"CMRC_VEH_I\",\n",
    "    \"LIC_PLATE_STATE\",\n",
    "    \"TOWED_I\",\n",
    "    \"FIRE_I\",\n",
    "    \"EXCEED_SPEED_LIMIT_I\",\n",
    "    \"TOWED_BY\",\n",
    "    \"TOWED_TO\",\n",
    "    \"AREA_00_I\",\n",
    "    \"AREA_01_I\",\n",
    "    \"AREA_02_I\",\n",
    "    \"AREA_03_I\",\n",
    "    \"AREA_04_I\",\n",
    "    \"AREA_05_I\",\n",
    "    \"AREA_06_I\",\n",
    "    \"AREA_07_I\",\n",
    "    \"AREA_08_I\",\n",
    "    \"AREA_09_I\",\n",
    "    \"AREA_10_I\",\n",
    "    \"AREA_11_I\",\n",
    "    \"AREA_12_I\",\n",
    "    \"AREA_99_I\",\n",
    "    \"CMV_ID\",\n",
    "    \"USDOT_NO\",\n",
    "    \"CCMC_NO\",\n",
    "    \"ILCC_NO\",\n",
    "    \"COMMERCIAL_SRC\",\n",
    "    \"GVWR\",\n",
    "    \"CARRIER_NAME\",\n",
    "    \"CARRIER_STATE\",\n",
    "    \"CARRIER_CITY\",\n",
    "    \"HAZMAT_PLACARDS_I\",\n",
    "    \"HAZMAT_NAME\",\n",
    "    \"UN_NO\",\n",
    "    \"HAZMAT_PRESENT_I\",\n",
    "    \"HAZMAT_REPORT_I\",\n",
    "    \"HAZMAT_REPORT_NO\",\n",
    "    \"MCS_REPORT_I\",\n",
    "    \"MCS_REPORT_NO\",\n",
    "    \"HAZMAT_VIO_CAUSE_CRASH_I\",\n",
    "    \"MCS_VIO_CAUSE_CRASH_I\",\n",
    "    \"IDOT_PERMIT_NO\",\n",
    "    \"WIDE_LOAD_I\",\n",
    "    \"TRAILER1_WIDTH\",\n",
    "    \"TRAILER2_WIDTH\",\n",
    "    \"TRAILER1_LENGTH\",\n",
    "    \"TRAILER2_LENGTH\",\n",
    "    \"TOTAL_VEHICLE_LENGTH\",\n",
    "    \"AXLE_CNT\",\n",
    "    \"VEHICLE_CONFIG\",\n",
    "    \"CARGO_BODY_TYPE\",\n",
    "    \"LOAD_TYPE\",\n",
    "    \"HAZMAT_OUT_OF_SERVICE_I\",\n",
    "    \"MCS_OUT_OF_SERVICE_I\",\n",
    "    \"HAZMAT_CLASS\",\n",
    "]\n",
    "\n",
    "COLUMNS_TO_STRING_VEHICLES = [\n",
    "    \"UNIT_TYPE\",\n",
    "    \"MAKE\",\n",
    "    \"MODEL\",\n",
    "    \"VEHICLE_DEFECT\",\n",
    "    \"VEHICLE_TYPE\",\n",
    "    \"VEHICLE_USE\",\n",
    "    \"TRAVEL_DIRECTION\",\n",
    "    \"MANEUVER\",\n",
    "    \"FIRST_CONTACT_POINT\",\n",
    "]\n",
    "\n",
    "COLUMNS_TO_INT_VEHICLES = [\n",
    "    \"CRASH_UNIT_ID\",\n",
    "    # \"VEHICLE_ID\", # nie obsługujemy tego\n",
    "    \"NUM_PASSENGERS\",\n",
    "    \"VEHICLE_YEAR\",\n",
    "    \"OCCUPANT_CNT\",  # DO FACT CRASH\n",
    "]\n",
    "\n",
    "############## WEATHER ##################\n",
    "\n",
    "COLUMNS_TO_DROP_WEATHER = [\"name\", \"severerisk\", \"icon\", \"stations\"]\n",
    "\n",
    "COLUMNS_NULL_UNKNOWN_WEATHER = [\"conditions\"]\n",
    "\n",
    "COLUMNS_NULL_NONE_WEATHER = [\"preciptype\"]\n",
    "\n",
    "COLUMNS_TO_FLOAT_WEATHER = [\n",
    "    \"temp\",\n",
    "    \"feelslike\",\n",
    "    \"dew\",\n",
    "    \"humidity\",\n",
    "    \"precip\",\n",
    "    \"snow\",\n",
    "    \"snowdepth\",\n",
    "    \"windgust\",\n",
    "    \"windspeed\",\n",
    "    \"sealevelpressure\",\n",
    "    \"cloudcover\",\n",
    "    \"visibility\",\n",
    "    \"solarradiation\",\n",
    "    \"solarenergy\",\n",
    "]\n",
    "\n",
    "COLUMNS_TO_INT_WEATHER = [\"precipprob\", \"uvindex\"]"
   ]
  },
  {
   "cell_type": "code",
   "execution_count": 71,
   "id": "49fb6dab",
   "metadata": {},
   "outputs": [],
   "source": [
    "import hashlib\n",
    "import pandas as pd\n",
    "from typing import List\n",
    "\n",
    "\n",
    "def change_type(df: pd.DataFrame, cols: List[str], type: str) -> pd.DataFrame:\n",
    "    \"\"\"\n",
    "    Changes the data type of specified columns in a DataFrame.\n",
    "\n",
    "    Args:\n",
    "        df (pd.DataFrame): Input DataFrame.\n",
    "        cols (List[str]): List of column names to change the data type.\n",
    "        type (str): Desired data type to convert the columns to.\n",
    "\n",
    "    Returns:\n",
    "        pd.DataFrame: DataFrame with specified columns converted to the desired data type.\n",
    "    \"\"\"\n",
    "    df_copy = df.copy()\n",
    "    for col in cols:\n",
    "        if col in df_copy.columns:\n",
    "            df_copy[col] = df_copy[col].astype(type)\n",
    "    return df_copy\n",
    "\n",
    "\n",
    "def fill_na(df: pd.DataFrame, cols: List[str], value) -> pd.DataFrame:\n",
    "    \"\"\"Fill missing values in specified columns with a given value.\n",
    "\n",
    "    Args:\n",
    "        df (pd.DataFrame): Input DataFrame.\n",
    "        cols (List[str]): A list of column names where NA values should be filled.\n",
    "        value (_type_): The value used to replace NA values.\n",
    "\n",
    "    Returns:\n",
    "        pd.DataFrame: A DataFrame with NA values in the specified columns filled.\n",
    "    \"\"\"\n",
    "    df_copy = df.copy()\n",
    "    for col in cols:\n",
    "        if col in df_copy.columns:\n",
    "            df_copy[col] = df_copy[col].fillna(value)\n",
    "    return df_copy\n",
    "\n",
    "\n",
    "def replace_value(\n",
    "    df: pd.DataFrame, cols: List[str], value_in, value_out\n",
    ") -> pd.DataFrame:\n",
    "    \"\"\"Replaces specified values with a given value_out.\n",
    "\n",
    "    Args:\n",
    "        df (pd.DataFrame): Input DataFrame.\n",
    "        cols (List[str]): A list of column names where values should be changed.\n",
    "        value_in (_type_): The value to be changed.\n",
    "        value_out (_type_): The value used to replace value_in.\n",
    "\n",
    "    Returns:\n",
    "        pd.DataFrame: A DataFrame with changed value_in to value_out.\n",
    "    \"\"\"\n",
    "    df_copy = df.copy()\n",
    "    for col in cols:\n",
    "        if col in df_copy.columns:\n",
    "            df_copy[col] = df_copy[col].replace(value_in, value_out)\n",
    "    return df_copy\n",
    "\n",
    "\n",
    "def generate_surrogate_key(*args) -> int:\n",
    "    \"\"\"\n",
    "    Generates a surrogate key based on the input arguments.\n",
    "\n",
    "    Args:\n",
    "        *args: Variable number of arguments to generate the key from.\n",
    "\n",
    "    Returns:\n",
    "        int: The generated surrogate key.\n",
    "    \"\"\"\n",
    "    # example use:\n",
    "    # dim_crash_info_df[\"crash_info_id\"] = dim_crash_info_df.apply(lambda row: generate_surrogate_key(*[row[col] for col in crash_info_cols]), axis=1)\n",
    "\n",
    "    key_string = \"|\".join(str(arg).lower().strip() for arg in args)\n",
    "    hash_bytes = hashlib.sha256(key_string.encode(\"utf-8\")).digest()\n",
    "\n",
    "    bigint = int.from_bytes(hash_bytes[:4], byteorder=\"big\", signed=False)\n",
    "\n",
    "    return bigint\n"
   ]
  },
  {
   "cell_type": "markdown",
   "id": "f023e344",
   "metadata": {},
   "source": [
    "## Sprawdzanie po trans_formed"
   ]
  },
  {
   "cell_type": "code",
   "execution_count": 167,
   "id": "5e117d38",
   "metadata": {},
   "outputs": [
    {
     "data": {
      "text/plain": [
       "'c:\\\\Users\\\\Tomek\\\\Desktop\\\\PW MINI IAD\\\\Semestr 6\\\\Hurtownie\\\\ChicagoCrashesETL'"
      ]
     },
     "execution_count": 167,
     "metadata": {},
     "output_type": "execute_result"
    }
   ],
   "source": [
    "import os\n",
    "os.getcwd()"
   ]
  },
  {
   "cell_type": "code",
   "execution_count": null,
   "id": "93ec9488",
   "metadata": {},
   "outputs": [],
   "source": [
    "df_vehicles = pd.read_pickle('./airflow-postgres-docker/data/tmp/extracted/vehicles.pkl')\n",
    "df_crashes = pd.read_pickle('./airflow-postgres-docker/data/tmp/extracted/crashes.pkl')"
   ]
  },
  {
   "cell_type": "code",
   "execution_count": 79,
   "id": "a69ad1fe",
   "metadata": {},
   "outputs": [
    {
     "name": "stdout",
     "output_type": "stream",
     "text": [
      "0\n",
      "7\n"
     ]
    }
   ],
   "source": [
    "df = df_vehicles\n",
    "\n",
    "df = df.drop(columns=COLUMNS_TO_DROP_VEHICLES)\n",
    "\n",
    "# String handling\n",
    "df = fill_na(df, COLUMNS_TO_STRING_VEHICLES, \"UKNOWN\")\n",
    "df = replace_value(df, COLUMNS_TO_STRING_VEHICLES, \"\", \"UNKNOWN\")\n",
    "df = change_type(df, COLUMNS_TO_STRING_VEHICLES, \"string\")\n",
    "\n",
    "# Int handling\n",
    "df = fill_na(df, COLUMNS_TO_INT_VEHICLES, -1)\n",
    "df['OCCUPANT_CNT'] = df['OCCUPANT_CNT'] + 1\n",
    "df = change_type(df, COLUMNS_TO_INT_VEHICLES, \"Int64\")\n",
    "\n",
    "# Na szybko bo może zadziała (zrobić VEHICLE_ID jako CRASH_UNIT_ID bo to to samo)\n",
    "df['VEHICLE_ID'] = df['CRASH_UNIT_ID']\n",
    "\n",
    "print(sum(df.duplicated()))\n",
    "\n",
    "df[\"VEHICLE_KEY\"] = df.apply(\n",
    "    lambda row: generate_surrogate_key(*[row[col] for col in df.columns.to_list()]),\n",
    "    axis=1,\n",
    ")\n",
    "\n",
    "print(sum(df.duplicated(subset='VEHICLE_KEY')))"
   ]
  },
  {
   "cell_type": "code",
   "execution_count": 93,
   "id": "e4636fcd",
   "metadata": {},
   "outputs": [],
   "source": [
    "fact_crash = pd.read_pickle('./airflow-postgres-docker/data/tmp/transformed/fact_crash.pkl')\n",
    "dim_vehicles = pd.read_pickle('./airflow-postgres-docker/data/tmp/transformed/dim_vehicle.pkl')\n",
    "dim_crash_info = pd.read_pickle('./airflow-postgres-docker/data/tmp/transformed/dim_crash_info.pkl')\n",
    "fact_weather = pd.read_pickle('./airflow-postgres-docker/data/tmp/transformed/fact_weather.pkl')\n",
    "dim_people = pd.read_pickle('./airflow-postgres-docker/data/tmp/transformed/dim_people.pkl')\n",
    "dim_date = pd.read_pickle('./airflow-postgres-docker/data/tmp/transformed/dim_date.pkl')\n",
    "dim_location = pd.read_pickle('./airflow-postgres-docker/data/tmp/transformed/dim_location.pkl')"
   ]
  },
  {
   "cell_type": "code",
   "execution_count": 81,
   "id": "b9343e48",
   "metadata": {},
   "outputs": [
    {
     "data": {
      "text/plain": [
       "0"
      ]
     },
     "execution_count": 81,
     "metadata": {},
     "output_type": "execute_result"
    }
   ],
   "source": [
    "sum(fact_crash.duplicated('FACT_CRASH_KEY'))"
   ]
  },
  {
   "cell_type": "code",
   "execution_count": 95,
   "id": "b5759dd8",
   "metadata": {},
   "outputs": [],
   "source": [
    "all_vehicle_ids = dim_vehicles['VEHICLE_ID']\n",
    "\n",
    "selected_from_crashes = fact_crash[fact_crash['VEHICLE_ID'].isin(all_vehicle_ids)]"
   ]
  },
  {
   "cell_type": "code",
   "execution_count": 96,
   "id": "9665bb68",
   "metadata": {},
   "outputs": [
    {
     "name": "stdout",
     "output_type": "stream",
     "text": [
      "214323\n",
      "214323\n"
     ]
    }
   ],
   "source": [
    "print(len(selected_from_crashes))\n",
    "print(len(fact_crash))\n"
   ]
  },
  {
   "cell_type": "code",
   "execution_count": null,
   "id": "87283ead",
   "metadata": {},
   "outputs": [
    {
     "data": {
      "application/vnd.microsoft.datawrangler.viewer.v0+json": {
       "columns": [
        {
         "name": "index",
         "rawType": "int64",
         "type": "integer"
        },
        {
         "name": "CRASH_UNIT_ID",
         "rawType": "Int64",
         "type": "integer"
        },
        {
         "name": "CRASH_RECORD_ID",
         "rawType": "object",
         "type": "string"
        },
        {
         "name": "UNIT_TYPE",
         "rawType": "string",
         "type": "string"
        },
        {
         "name": "NUM_PASSENGERS",
         "rawType": "Int64",
         "type": "integer"
        },
        {
         "name": "VEHICLE_ID",
         "rawType": "Int64",
         "type": "integer"
        },
        {
         "name": "MAKE",
         "rawType": "string",
         "type": "string"
        },
        {
         "name": "MODEL",
         "rawType": "string",
         "type": "string"
        },
        {
         "name": "VEHICLE_YEAR",
         "rawType": "Int64",
         "type": "integer"
        },
        {
         "name": "VEHICLE_DEFECT",
         "rawType": "string",
         "type": "string"
        },
        {
         "name": "VEHICLE_TYPE",
         "rawType": "string",
         "type": "string"
        },
        {
         "name": "VEHICLE_USE",
         "rawType": "string",
         "type": "string"
        },
        {
         "name": "TRAVEL_DIRECTION",
         "rawType": "string",
         "type": "string"
        },
        {
         "name": "MANEUVER",
         "rawType": "string",
         "type": "string"
        },
        {
         "name": "OCCUPANT_CNT",
         "rawType": "Int64",
         "type": "integer"
        },
        {
         "name": "FIRST_CONTACT_POINT",
         "rawType": "string",
         "type": "string"
        },
        {
         "name": "VEHICLE_KEY",
         "rawType": "uint64",
         "type": "integer"
        }
       ],
       "ref": "944f4544-a9db-4069-8c33-e59e0d910bfb",
       "rows": [],
       "shape": {
        "columns": 16,
        "rows": 0
       }
      },
      "text/html": [
       "<div>\n",
       "<style scoped>\n",
       "    .dataframe tbody tr th:only-of-type {\n",
       "        vertical-align: middle;\n",
       "    }\n",
       "\n",
       "    .dataframe tbody tr th {\n",
       "        vertical-align: top;\n",
       "    }\n",
       "\n",
       "    .dataframe thead th {\n",
       "        text-align: right;\n",
       "    }\n",
       "</style>\n",
       "<table border=\"1\" class=\"dataframe\">\n",
       "  <thead>\n",
       "    <tr style=\"text-align: right;\">\n",
       "      <th></th>\n",
       "      <th>CRASH_UNIT_ID</th>\n",
       "      <th>CRASH_RECORD_ID</th>\n",
       "      <th>UNIT_TYPE</th>\n",
       "      <th>NUM_PASSENGERS</th>\n",
       "      <th>VEHICLE_ID</th>\n",
       "      <th>MAKE</th>\n",
       "      <th>MODEL</th>\n",
       "      <th>VEHICLE_YEAR</th>\n",
       "      <th>VEHICLE_DEFECT</th>\n",
       "      <th>VEHICLE_TYPE</th>\n",
       "      <th>VEHICLE_USE</th>\n",
       "      <th>TRAVEL_DIRECTION</th>\n",
       "      <th>MANEUVER</th>\n",
       "      <th>OCCUPANT_CNT</th>\n",
       "      <th>FIRST_CONTACT_POINT</th>\n",
       "      <th>VEHICLE_KEY</th>\n",
       "    </tr>\n",
       "  </thead>\n",
       "  <tbody>\n",
       "  </tbody>\n",
       "</table>\n",
       "</div>"
      ],
      "text/plain": [
       "Empty DataFrame\n",
       "Columns: [CRASH_UNIT_ID, CRASH_RECORD_ID, UNIT_TYPE, NUM_PASSENGERS, VEHICLE_ID, MAKE, MODEL, VEHICLE_YEAR, VEHICLE_DEFECT, VEHICLE_TYPE, VEHICLE_USE, TRAVEL_DIRECTION, MANEUVER, OCCUPANT_CNT, FIRST_CONTACT_POINT, VEHICLE_KEY]\n",
       "Index: []"
      ]
     },
     "execution_count": 89,
     "metadata": {},
     "output_type": "execute_result"
    }
   ],
   "source": []
  },
  {
   "cell_type": "code",
   "execution_count": 82,
   "id": "ff03df8c",
   "metadata": {},
   "outputs": [
    {
     "data": {
      "text/plain": [
       "0"
      ]
     },
     "execution_count": 82,
     "metadata": {},
     "output_type": "execute_result"
    }
   ],
   "source": [
    "sum(dim_location['LOCATION_KEY'].duplicated())"
   ]
  },
  {
   "cell_type": "code",
   "execution_count": 86,
   "id": "2f3dafa1",
   "metadata": {},
   "outputs": [
    {
     "data": {
      "text/plain": [
       "0"
      ]
     },
     "execution_count": 86,
     "metadata": {},
     "output_type": "execute_result"
    }
   ],
   "source": [
    "sum(dim_vehicles['VEHICLE_ID'].duplicated())"
   ]
  }
 ],
 "metadata": {
  "kernelspec": {
   "display_name": "Python 3",
   "language": "python",
   "name": "python3"
  },
  "language_info": {
   "codemirror_mode": {
    "name": "ipython",
    "version": 3
   },
   "file_extension": ".py",
   "mimetype": "text/x-python",
   "name": "python",
   "nbconvert_exporter": "python",
   "pygments_lexer": "ipython3",
   "version": "3.11.9"
  }
 },
 "nbformat": 4,
 "nbformat_minor": 5
}
